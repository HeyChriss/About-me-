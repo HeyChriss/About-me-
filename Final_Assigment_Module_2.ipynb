{
  "nbformat": 4,
  "nbformat_minor": 0,
  "metadata": {
    "colab": {
      "provenance": [],
      "include_colab_link": true
    },
    "kernelspec": {
      "name": "python3",
      "display_name": "Python 3"
    }
  },
  "cells": [
    {
      "cell_type": "markdown",
      "metadata": {
        "id": "view-in-github",
        "colab_type": "text"
      },
      "source": [
        "<a href=\"https://colab.research.google.com/github/HeyChriss/About-me-/blob/main/Final_Assigment_Module_2.ipynb\" target=\"_parent\"><img src=\"https://colab.research.google.com/assets/colab-badge.svg\" alt=\"Open In Colab\"/></a>"
      ]
    },
    {
      "cell_type": "code",
      "metadata": {
        "id": "mA0HPVmIBT4C"
      },
      "source": [
        "import pandas as pd\n",
        "import numpy as np\n",
        "from sklearn.model_selection import train_test_split\n",
        "from sklearn.ensemble import RandomForestClassifier\n",
        "from sklearn.metrics import classification_report, precision_recall_curve, accuracy_score, precision_score, recall_score, f1_score\n",
        "from sklearn.metrics import classification_report, confusion_matrix\n",
        "\n",
        "campaign_df = pd.read_csv('https://raw.githubusercontent.com/byui-cse/cse450-course/master/data/bank.csv')"
      ],
      "execution_count": null,
      "outputs": []
    },
    {
      "cell_type": "code",
      "metadata": {
        "id": "StiU5QcPPxqQ",
        "colab": {
          "base_uri": "https://localhost:8080/"
        },
        "outputId": "5307c86d-699f-4ec8-f475-43e15dc7ad35"
      },
      "source": [
        "# RANDOM FOREST ML\n",
        "# Drop missing values\n",
        "campaign_df = campaign_df.dropna().copy()\n",
        "\n",
        "# Let's treat Pclass as categorical\n",
        "campaign_df['education_cat'] = campaign_df['education'].astype('category')\n",
        "\n",
        "# Encode our features and target as needed\n",
        "features = ['education'\n",
        "            , 'job'\n",
        "            , 'age'\n",
        "            , 'loan'\n",
        "            , 'default'\n",
        "            , 'month'\n",
        "            , 'campaign'\n",
        "            , 'pdays'\n",
        "            , 'poutcome'\n",
        "            , 'previous'\n",
        "            , 'emp.var.rate'\n",
        "            , 'cons.price.idx'\n",
        "            , 'cons.conf.idx'\n",
        "            , 'euribor3m'\n",
        "            , 'nr.employed'\n",
        "            ]\n",
        "X = pd.get_dummies(campaign_df[features], drop_first=True)\n",
        "y = campaign_df['y'].replace({'yes': 1,'no': 0})\n",
        "\n",
        "# Split our data into training and test data, with 30% reserved for testing\n",
        "X_train, X_test, y_train, y_test = train_test_split(X, y, random_state=42)\n",
        "\n",
        "\n",
        "# Define the custom class weights: 'yes' is 5, 'no' is 1\n",
        "class_weights = {1:5, 0:1}\n",
        "\n",
        "# Initialize RandomForestClassifier with custom class weights\n",
        "clf = RandomForestClassifier(class_weight=class_weights, n_estimators=500, max_depth=10)\n",
        "\n",
        "# Train it\n",
        "clf.fit(X_train, y_train)\n",
        "\n",
        "# Test it\n",
        "score = clf.score(X_test, y_test)\n",
        "print(f\"Model accuracy: {score:.4f}\")\n",
        "# ~0.8661091628450679\n",
        "# ~0.86718 - added 'month'\n",
        "# ~0.87015 - added 'campaign'\n",
        "# ~0.87465 - added 'day_of_week'\n",
        "# ~0.88688 - added 'pdays'\n",
        "# ~0.89020 - added 'previous'\n",
        "# ~0.89092 - added 'emp.var.rate'\n",
        "# ~0.89101 - added 'cons.price.idx'"
      ],
      "execution_count": null,
      "outputs": [
        {
          "output_type": "stream",
          "name": "stderr",
          "text": [
            "<ipython-input-33-78a1c847a21a>:26: FutureWarning: Downcasting behavior in `replace` is deprecated and will be removed in a future version. To retain the old behavior, explicitly call `result.infer_objects(copy=False)`. To opt-in to the future behavior, set `pd.set_option('future.no_silent_downcasting', True)`\n",
            "  y = campaign_df['y'].replace({'yes': 1,'no': 0})\n"
          ]
        },
        {
          "output_type": "stream",
          "name": "stdout",
          "text": [
            "Model accuracy: 0.8670\n"
          ]
        }
      ]
    },
    {
      "cell_type": "code",
      "metadata": {
        "id": "ALLMN63FPyEQ",
        "colab": {
          "base_uri": "https://localhost:8080/"
        },
        "outputId": "b2402c07-eb9b-41a6-a405-7999e2fb6b25"
      },
      "source": [
        "# Make predictions\n",
        "y_pred = clf.predict(X_test)\n",
        "\n",
        "# Calculate accuracy\n",
        "accuracy = clf.score(X_test, y_test)\n",
        "print(f\"Model accuracy: {accuracy:.4f}\")\n",
        "\n",
        "# Generate classification report\n",
        "report = classification_report(y_test, y_pred, output_dict=True)\n",
        "print(\"\\nClassification Report:\")\n",
        "print(f\"Precision: {report['weighted avg']['precision']:.4f}\")\n",
        "print(f\"Recall: {report['weighted avg']['recall']:.4f}\")\n",
        "print(f\"F1-score: {report['weighted avg']['f1-score']:.4f}\")\n",
        "\n",
        "# Print full classification report\n",
        "print(\"\\nDetailed Classification Report:\")\n",
        "print(classification_report(y_test, y_pred))\n"
      ],
      "execution_count": null,
      "outputs": [
        {
          "output_type": "stream",
          "name": "stdout",
          "text": [
            "Model accuracy: 0.8670\n",
            "\n",
            "Classification Report:\n",
            "Precision: 0.8837\n",
            "Recall: 0.8670\n",
            "F1-score: 0.8740\n",
            "\n",
            "Detailed Classification Report:\n",
            "              precision    recall  f1-score   support\n",
            "\n",
            "           0       0.94      0.90      0.92      8154\n",
            "           1       0.46      0.59      0.52      1114\n",
            "\n",
            "    accuracy                           0.87      9268\n",
            "   macro avg       0.70      0.75      0.72      9268\n",
            "weighted avg       0.88      0.87      0.87      9268\n",
            "\n"
          ]
        }
      ]
    },
    {
      "cell_type": "code",
      "metadata": {
        "id": "RnGBwGVZPyyh",
        "colab": {
          "base_uri": "https://localhost:8080/",
          "height": 17
        },
        "outputId": "4b38c9ec-8db5-49ae-c04b-9c505ed069f7"
      },
      "source": [
        "# Load the mini holdout set\n",
        "test = pd.read_csv(\"https://raw.githubusercontent.com/byui-cse/cse450-course/master/data/bank_holdout_test.csv\")\n",
        "\n",
        "# List of features used in training\n",
        "features = ['education', 'job', 'age', 'loan', 'default', 'month',\n",
        "            'campaign', 'pdays', 'poutcome', 'previous', 'emp.var.rate',\n",
        "            'cons.price.idx', 'cons.conf.idx', 'euribor3m', 'nr.employed']\n",
        "\n",
        "# Create dummy variables for the test set\n",
        "X_test = pd.get_dummies(test[features], drop_first=True)\n",
        "\n",
        "# Ensure X_test has the same columns as X_train\n",
        "missing_cols = set(X.columns) - set(X_test.columns)\n",
        "for col in missing_cols:\n",
        "    X_test[col] = 0\n",
        "X_test = X_test[X.columns]\n",
        "\n",
        "# Make binary predictions\n",
        "predictions = clf.predict(X_test)\n",
        "\n",
        "# Convert the predictions to a dataframe\n",
        "my_predictions = pd.DataFrame(predictions, columns=['y'])\n",
        "\n",
        "# Replace PUTTEAMNUMBERHERE with your team number\n",
        "team_number = \"goneFishing\"  # Replace this with your actual team number\n",
        "my_predictions.to_csv(f\"team{team_number}-module2-predictions.csv\", index=False)\n",
        "\n",
        "from google.colab import files\n",
        "files.download(f\"team{team_number}-module2-predictions.csv\")"
      ],
      "execution_count": null,
      "outputs": [
        {
          "output_type": "display_data",
          "data": {
            "text/plain": [
              "<IPython.core.display.Javascript object>"
            ],
            "application/javascript": [
              "\n",
              "    async function download(id, filename, size) {\n",
              "      if (!google.colab.kernel.accessAllowed) {\n",
              "        return;\n",
              "      }\n",
              "      const div = document.createElement('div');\n",
              "      const label = document.createElement('label');\n",
              "      label.textContent = `Downloading \"${filename}\": `;\n",
              "      div.appendChild(label);\n",
              "      const progress = document.createElement('progress');\n",
              "      progress.max = size;\n",
              "      div.appendChild(progress);\n",
              "      document.body.appendChild(div);\n",
              "\n",
              "      const buffers = [];\n",
              "      let downloaded = 0;\n",
              "\n",
              "      const channel = await google.colab.kernel.comms.open(id);\n",
              "      // Send a message to notify the kernel that we're ready.\n",
              "      channel.send({})\n",
              "\n",
              "      for await (const message of channel.messages) {\n",
              "        // Send a message to notify the kernel that we're ready.\n",
              "        channel.send({})\n",
              "        if (message.buffers) {\n",
              "          for (const buffer of message.buffers) {\n",
              "            buffers.push(buffer);\n",
              "            downloaded += buffer.byteLength;\n",
              "            progress.value = downloaded;\n",
              "          }\n",
              "        }\n",
              "      }\n",
              "      const blob = new Blob(buffers, {type: 'application/binary'});\n",
              "      const a = document.createElement('a');\n",
              "      a.href = window.URL.createObjectURL(blob);\n",
              "      a.download = filename;\n",
              "      div.appendChild(a);\n",
              "      a.click();\n",
              "      div.remove();\n",
              "    }\n",
              "  "
            ]
          },
          "metadata": {}
        },
        {
          "output_type": "display_data",
          "data": {
            "text/plain": [
              "<IPython.core.display.Javascript object>"
            ],
            "application/javascript": [
              "download(\"download_218a72ea-4395-427a-a1d5-9815454995da\", \"teamgoneFishing-module2-predictions.csv\", 8240)"
            ]
          },
          "metadata": {}
        }
      ]
    },
    {
      "cell_type": "code",
      "metadata": {
        "id": "CVSfaqgKPzE2"
      },
      "source": [],
      "execution_count": null,
      "outputs": []
    }
  ]
}